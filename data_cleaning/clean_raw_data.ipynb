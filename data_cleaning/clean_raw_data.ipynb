{
 "cells": [
  {
   "cell_type": "code",
   "execution_count": 1,
   "metadata": {},
   "outputs": [],
   "source": [
    "import pandas as pd\n",
    "import matplotlib.pyplot as plt\n",
    "import numpy as np\n",
    "%matplotlib inline\n",
    "pd.options.display.max_columns = None"
   ]
  },
  {
   "cell_type": "code",
   "execution_count": 31,
   "metadata": {},
   "outputs": [],
   "source": [
    "# df = pd.read_csv(\"./all/train.csv\")\n",
    "\n",
    "df = pd.read_csv(\"./all/test.csv\")\n",
    "\n",
    "# df_test = pd.read_csv(\"./all/test.csv\")\n",
    "# df = pd.concat([df_test, df])"
   ]
  },
  {
   "cell_type": "code",
   "execution_count": 32,
   "metadata": {},
   "outputs": [],
   "source": [
    "values = {'PoolQC': 'noPool', 'MiscFeature': 'none', 'Alley': 'noAlley', 'Fence': 'noFence', \n",
    "          'FireplaceQu': 'noFireplace', 'GarageCond': 'noGarage', 'GarageType': 'noGarage', 'GarageYrBlt': 'noGarage',\n",
    "          'GarageFinish': 'noGarage', 'GarageQual': 'noGarage', 'GarageCars': 0, 'GarageArea': 0,\n",
    "          'BsmtExposure': 'noBasement',  'BsmtFinType2': 'noBasement', 'BsmtFinType1': 'noBasement',\n",
    "          'BsmtCond': 'noBasement', 'BsmtQual': 'noBasement', 'BsmtFinSF2': 0, 'BsmtFinSF1': 0, \n",
    "          'BsmtUnfSF': 0, 'TotalBsmtSF': 0, 'BsmtFullBath': 0, 'BsmtHalfBath': 0, 'MasVnrArea': 0, 'MasVnrType': 'None'}\n",
    "\n",
    "df = df.fillna(value=values)\n",
    "\n",
    "cat_to_imputation = ['Exterior1st', 'Exterior2nd', 'MSZoning', 'SaleType', 'KitchenQual', \n",
    "                     'Functional', 'Utilities', 'Electrical','MasVnrType']\n",
    "\n",
    "for col in cat_to_imputation:\n",
    "    df[col] = df[col].fillna(df[col].value_counts().index[0])\n",
    "\n"
   ]
  },
  {
   "cell_type": "code",
   "execution_count": 33,
   "metadata": {},
   "outputs": [],
   "source": [
    "# sort out basement data\n",
    "\n",
    "base_cond = (df.BsmtCond == \"noBasement\") & (df.BsmtFinSF1 > 0)\n",
    "df.loc[base_cond, \"BsmtCond\"] = \"TA\"\n",
    "\n",
    "base_exp = (df.BsmtExposure == \"noBasement\") & (df.BsmtUnfSF > 0)\n",
    "df.loc[base_exp, \"BsmtExposure\"] = \"No\"\n",
    "\n",
    "base_fin2 = (df.BsmtFinType2 == \"noBasement\") & (df.BsmtFinSF2 > 0)\n",
    "df.loc[base_fin2, \"BsmtFinType2\"] = \"GLQ\"\n",
    "\n",
    "base_qual = (df.BsmtQual == \"noBasement\") & (df.BsmtUnfSF > 0)\n",
    "df.loc[base_qual, \"BsmtQual\"] = \"Gd\""
   ]
  },
  {
   "cell_type": "code",
   "execution_count": 34,
   "metadata": {},
   "outputs": [],
   "source": [
    "# sort out garage data - SAM i just changed df_all to df?\n",
    "\n",
    "rm_garage_type = (df.GarageType != 'noGarage') & ((df.GarageCars == 0.0) & (df.GarageArea == 0.0))\n",
    "df.loc[rm_garage_type, 'GarageType'] = 'noGarage'\n",
    "\n",
    "fill_garage_modes = (df.GarageType == 'Detchd') & ((df.GarageCars != 0.0) & (df.GarageArea != 0.0))\n",
    "df_detached_garage = df[df.GarageType == 'Detchd']\n",
    "df.loc[fill_garage_modes, 'GarageFinish'] = df_detached_garage.GarageFinish.value_counts().index[0]\n",
    "df.loc[fill_garage_modes, 'GarageCond'] = df_detached_garage.GarageCond.value_counts().index[0]\n",
    "df.loc[fill_garage_modes, 'GarageQual'] = df_detached_garage.GarageQual.value_counts().index[0]"
   ]
  },
  {
   "cell_type": "code",
   "execution_count": 35,
   "metadata": {},
   "outputs": [
    {
     "data": {
      "text/plain": [
       "LotFrontage      227\n",
       "SaleCondition      0\n",
       "Foundation         0\n",
       "RoofMatl           0\n",
       "Exterior1st        0\n",
       "Exterior2nd        0\n",
       "MasVnrType         0\n",
       "MasVnrArea         0\n",
       "ExterQual          0\n",
       "ExterCond          0\n",
       "dtype: int64"
      ]
     },
     "execution_count": 35,
     "metadata": {},
     "output_type": "execute_result"
    }
   ],
   "source": [
    "df.isnull().sum().sort_values(ascending=False).head(10)"
   ]
  },
  {
   "cell_type": "code",
   "execution_count": 29,
   "metadata": {},
   "outputs": [],
   "source": [
    "# just LotFrontage to deal with \n",
    "# could just leave this variable out?"
   ]
  },
  {
   "cell_type": "code",
   "execution_count": 36,
   "metadata": {},
   "outputs": [],
   "source": [
    "df.to_csv(\"test_cleaned.csv\")"
   ]
  },
  {
   "cell_type": "code",
   "execution_count": null,
   "metadata": {},
   "outputs": [],
   "source": []
  }
 ],
 "metadata": {
  "kernelspec": {
   "display_name": "Python 2",
   "language": "python",
   "name": "python2"
  },
  "language_info": {
   "codemirror_mode": {
    "name": "ipython",
    "version": 2
   },
   "file_extension": ".py",
   "mimetype": "text/x-python",
   "name": "python",
   "nbconvert_exporter": "python",
   "pygments_lexer": "ipython2",
   "version": "2.7.14"
  }
 },
 "nbformat": 4,
 "nbformat_minor": 2
}
